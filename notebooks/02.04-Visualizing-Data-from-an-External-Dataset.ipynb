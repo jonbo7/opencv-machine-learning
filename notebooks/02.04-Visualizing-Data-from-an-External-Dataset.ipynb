{
 "cells": [
  {
   "cell_type": "markdown",
   "metadata": {},
   "source": [
    "# Visualizing Data from an External Dataset\n",
    "\n",
    "As a final test for this chapter, let's visualize some data from an external dataset, such as the digits dataset from scikit-learn.\n",
    "\n",
    "We will need three tools in specific:\n",
    "- scikit-learn for the actual data\n",
    "- NumPy for data munging\n",
    "- Matplotlib for visualization.\n",
    "\n",
    "So let's start by importing all of these:"
   ]
  },
  {
   "cell_type": "code",
   "execution_count": 4,
   "metadata": {},
   "outputs": [],
   "source": [
    "import numpy as np\n",
    "from sklearn import datasets\n",
    "import matplotlib.pyplot as plt\n",
    "%matplotlib inline"
   ]
  },
  {
   "cell_type": "markdown",
   "metadata": {},
   "source": [
    "The first step is to actually load the data:"
   ]
  },
  {
   "cell_type": "code",
   "execution_count": 7,
   "metadata": {},
   "outputs": [],
   "source": [
    "digits = datasets.load_digits()"
   ]
  },
  {
   "cell_type": "markdown",
   "metadata": {},
   "source": [
    "If we remember correctly, `digits` is supposed to have two different fields: a `data` field\n",
    "containing the actual image data, and a `target` field containing the image labels. Rather\n",
    "than trust our memory, we should simply investigate the digits object. We do this by typing\n",
    "out its name, adding a period, and then hitting the `TAB` key: `digits.<TAB>`. This will\n",
    "reveal that the `digits` object also contains some other fields, such as one called images.\n",
    "The two fields, `images` and `data`, seem to simply differ by shape:"
   ]
  },
  {
   "cell_type": "code",
   "execution_count": 10,
   "metadata": {},
   "outputs": [
    {
     "name": "stdout",
     "output_type": "stream",
     "text": [
      "(1797, 64)\n",
      "(1797, 8, 8)\n",
      "(1797,)\n"
     ]
    }
   ],
   "source": [
    "print(digits.data.shape)\n",
    "print(digits.images.shape)\n",
    "print(digits.target.shape)"
   ]
  },
  {
   "cell_type": "markdown",
   "metadata": {},
   "source": [
    "In both cases, the first dimension corresponds to the number of images in the dataset.\n",
    "However, `data` has all the pixels lined up in one big vector, whereas `images` preserves the\n",
    "8 x 8 spatial arrangement of each image.\n",
    "\n",
    "Thus, if we wanted to plot a single image, the `images` field would be more appropriate.\n",
    "First, we grab a single image from the dataset using NumPy's array slicing:"
   ]
  },
  {
   "cell_type": "code",
   "execution_count": 13,
   "metadata": {},
   "outputs": [],
   "source": [
    "img = digits.images[0, :, :]"
   ]
  },
  {
   "cell_type": "markdown",
   "metadata": {},
   "source": [
    "Here, we are saying that we want to grab the first row in the 1,797 items-long array and all\n",
    "the corresponding $8 \\times 8=64$ pixels. We can then plot the image using `plt`'s `imshow` function:"
   ]
  },
  {
   "cell_type": "code",
   "execution_count": 16,
   "metadata": {},
   "outputs": [
    {
     "data": {
      "image/png": "[encoded data removed]",
      "text/plain": [
       "<Figure size 640x480 with 1 Axes>"
      ]
     },
     "metadata": {},
     "output_type": "display_data"
    }
   ],
   "source": [
    "plt.imshow(img, cmap='gray')\n",
    "plt.savefig('figures/02.04-digit0.png')"
   ]
  },
  {
   "cell_type": "markdown",
   "metadata": {},
   "source": [
    "In addition, I also specified a color map with the `cmap` argument. By default, Matplotlib\n",
    "uses MATLAB's default colormap `jet`. However, in the case of grayscale images, the gray\n",
    "colormap makes more sense."
   ]
  },
  {
   "cell_type": "markdown",
   "metadata": {},
   "source": [
    "Finally, we can plot a whole number of digit samples using `plt`'s `subplot` function. The\n",
    "`subplot` function is the same as in MATLAB, where we specify the number of rows,\n",
    "number of columns, and current subplot index (starts counting at 1). We will use `for loop`\n",
    "to iterate over the first ten images in the dataset and every image gets assigned its own\n",
    "subplot:"
   ]
  },
  {
   "cell_type": "code",
   "execution_count": 20,
   "metadata": {},
   "outputs": [
    {
     "data": {
      "image/png": "[encoded data removed]",
      "text/plain": [
       "<Figure size 1400x400 with 10 Axes>"
      ]
     },
     "metadata": {},
     "output_type": "display_data"
    }
   ],
   "source": [
    "plt.figure(figsize=(14, 4))\n",
    "\n",
    "for image_index in range(10):\n",
    "    # images are 0-indexed, subplots are 1-indexed\n",
    "    subplot_index = image_index + 1\n",
    "    plt.subplot(2, 5, subplot_index)\n",
    "    plt.imshow(digits.images[image_index, :, :], cmap='gray')"
   ]
  },
  {
   "cell_type": "code",
   "execution_count": null,
   "metadata": {},
   "outputs": [],
   "source": []
  }
 ],
 "metadata": {
  "anaconda-cloud": {},
  "kernelspec": {
   "display_name": "Python 3 (ipykernel)",
   "language": "python",
   "name": "python3"
  },
  "language_info": {
   "codemirror_mode": {
    "name": "ipython",
    "version": 3
   },
   "file_extension": ".py",
   "mimetype": "text/x-python",
   "name": "python",
   "nbconvert_exporter": "python",
   "pygments_lexer": "ipython3",
   "version": "3.12.4"
  }
 },
 "nbformat": 4,
 "nbformat_minor": 4
}
